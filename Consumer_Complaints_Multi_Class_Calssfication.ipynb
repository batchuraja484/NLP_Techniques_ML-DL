{
 "cells": [
  {
   "cell_type": "markdown",
   "metadata": {},
   "source": [
    "# This is Mutli Text Classfication problem for the given complaints from the multiple sources and need to Implement with ML && DL Algorithms"
   ]
  },
  {
   "cell_type": "markdown",
   "metadata": {},
   "source": [
    "### we will follw the below workflow steps to achive this problem statement\n",
    "<img src=\"images/ml101-6-step-ml-framework.png\">"
   ]
  },
  {
   "cell_type": "markdown",
   "metadata": {},
   "source": [
    "#### Need to follow below steps for every problem \n",
    "1. Problem Definition\n",
    "2. Data & Exploratory Data Analysis\n",
    "3. Evaluation Matrix\n",
    "4. Feature Selection\n",
    "5. Modeling\n",
    "6. Experiments\n"
   ]
  },
  {
   "cell_type": "markdown",
   "metadata": {},
   "source": [
    "### 1. Problem Definition\n",
    "we need to classify the given text inputs to respective class, this is multi calss text classfication problem"
   ]
  },
  {
   "cell_type": "markdown",
   "metadata": {},
   "source": [
    "### 2.Data Collection and EDA\n",
    "Need to load the data and need to perfrom EDA"
   ]
  },
  {
   "cell_type": "code",
   "execution_count": 1,
   "metadata": {},
   "outputs": [
    {
     "name": "stderr",
     "output_type": "stream",
     "text": [
      "C:\\AI\\ML_Practice\\NLP_Problesm_Using_ML_DL\\env\\lib\\site-packages\\IPython\\core\\interactiveshell.py:3071: DtypeWarning: Columns (5,11) have mixed types.Specify dtype option on import or set low_memory=False.\n",
      "  has_raised = await self.run_ast_nodes(code_ast.body, cell_name,\n"
     ]
    },
    {
     "data": {
      "text/html": [
       "<div>\n",
       "<style scoped>\n",
       "    .dataframe tbody tr th:only-of-type {\n",
       "        vertical-align: middle;\n",
       "    }\n",
       "\n",
       "    .dataframe tbody tr th {\n",
       "        vertical-align: top;\n",
       "    }\n",
       "\n",
       "    .dataframe thead th {\n",
       "        text-align: right;\n",
       "    }\n",
       "</style>\n",
       "<table border=\"1\" class=\"dataframe\">\n",
       "  <thead>\n",
       "    <tr style=\"text-align: right;\">\n",
       "      <th></th>\n",
       "      <th>date_received</th>\n",
       "      <th>product</th>\n",
       "      <th>sub_product</th>\n",
       "      <th>issue</th>\n",
       "      <th>sub_issue</th>\n",
       "      <th>consumer_complaint_narrative</th>\n",
       "      <th>company_public_response</th>\n",
       "      <th>company</th>\n",
       "      <th>state</th>\n",
       "      <th>zipcode</th>\n",
       "      <th>tags</th>\n",
       "      <th>consumer_consent_provided</th>\n",
       "      <th>submitted_via</th>\n",
       "      <th>date_sent_to_company</th>\n",
       "      <th>company_response_to_consumer</th>\n",
       "      <th>timely_response</th>\n",
       "      <th>consumer_disputed?</th>\n",
       "      <th>complaint_id</th>\n",
       "    </tr>\n",
       "  </thead>\n",
       "  <tbody>\n",
       "    <tr>\n",
       "      <th>0</th>\n",
       "      <td>08/30/2013</td>\n",
       "      <td>Mortgage</td>\n",
       "      <td>Other mortgage</td>\n",
       "      <td>Loan modification,collection,foreclosure</td>\n",
       "      <td>NaN</td>\n",
       "      <td>NaN</td>\n",
       "      <td>NaN</td>\n",
       "      <td>U.S. Bancorp</td>\n",
       "      <td>CA</td>\n",
       "      <td>95993</td>\n",
       "      <td>NaN</td>\n",
       "      <td>NaN</td>\n",
       "      <td>Referral</td>\n",
       "      <td>09/03/2013</td>\n",
       "      <td>Closed with explanation</td>\n",
       "      <td>Yes</td>\n",
       "      <td>Yes</td>\n",
       "      <td>511074</td>\n",
       "    </tr>\n",
       "    <tr>\n",
       "      <th>1</th>\n",
       "      <td>08/30/2013</td>\n",
       "      <td>Mortgage</td>\n",
       "      <td>Other mortgage</td>\n",
       "      <td>Loan servicing, payments, escrow account</td>\n",
       "      <td>NaN</td>\n",
       "      <td>NaN</td>\n",
       "      <td>NaN</td>\n",
       "      <td>Wells Fargo &amp; Company</td>\n",
       "      <td>CA</td>\n",
       "      <td>91104</td>\n",
       "      <td>NaN</td>\n",
       "      <td>NaN</td>\n",
       "      <td>Referral</td>\n",
       "      <td>09/03/2013</td>\n",
       "      <td>Closed with explanation</td>\n",
       "      <td>Yes</td>\n",
       "      <td>Yes</td>\n",
       "      <td>511080</td>\n",
       "    </tr>\n",
       "    <tr>\n",
       "      <th>2</th>\n",
       "      <td>08/30/2013</td>\n",
       "      <td>Credit reporting</td>\n",
       "      <td>NaN</td>\n",
       "      <td>Incorrect information on credit report</td>\n",
       "      <td>Account status</td>\n",
       "      <td>NaN</td>\n",
       "      <td>NaN</td>\n",
       "      <td>Wells Fargo &amp; Company</td>\n",
       "      <td>NY</td>\n",
       "      <td>11764</td>\n",
       "      <td>NaN</td>\n",
       "      <td>NaN</td>\n",
       "      <td>Postal mail</td>\n",
       "      <td>09/18/2013</td>\n",
       "      <td>Closed with explanation</td>\n",
       "      <td>Yes</td>\n",
       "      <td>No</td>\n",
       "      <td>510473</td>\n",
       "    </tr>\n",
       "    <tr>\n",
       "      <th>3</th>\n",
       "      <td>08/30/2013</td>\n",
       "      <td>Student loan</td>\n",
       "      <td>Non-federal student loan</td>\n",
       "      <td>Repaying your loan</td>\n",
       "      <td>Repaying your loan</td>\n",
       "      <td>NaN</td>\n",
       "      <td>NaN</td>\n",
       "      <td>Navient Solutions, Inc.</td>\n",
       "      <td>MD</td>\n",
       "      <td>21402</td>\n",
       "      <td>NaN</td>\n",
       "      <td>NaN</td>\n",
       "      <td>Email</td>\n",
       "      <td>08/30/2013</td>\n",
       "      <td>Closed with explanation</td>\n",
       "      <td>Yes</td>\n",
       "      <td>Yes</td>\n",
       "      <td>510326</td>\n",
       "    </tr>\n",
       "    <tr>\n",
       "      <th>4</th>\n",
       "      <td>08/30/2013</td>\n",
       "      <td>Debt collection</td>\n",
       "      <td>Credit card</td>\n",
       "      <td>False statements or representation</td>\n",
       "      <td>Attempted to collect wrong amount</td>\n",
       "      <td>NaN</td>\n",
       "      <td>NaN</td>\n",
       "      <td>Resurgent Capital Services L.P.</td>\n",
       "      <td>GA</td>\n",
       "      <td>30106</td>\n",
       "      <td>NaN</td>\n",
       "      <td>NaN</td>\n",
       "      <td>Web</td>\n",
       "      <td>08/30/2013</td>\n",
       "      <td>Closed with explanation</td>\n",
       "      <td>Yes</td>\n",
       "      <td>Yes</td>\n",
       "      <td>511067</td>\n",
       "    </tr>\n",
       "  </tbody>\n",
       "</table>\n",
       "</div>"
      ],
      "text/plain": [
       "  date_received           product               sub_product  \\\n",
       "0    08/30/2013          Mortgage            Other mortgage   \n",
       "1    08/30/2013          Mortgage            Other mortgage   \n",
       "2    08/30/2013  Credit reporting                       NaN   \n",
       "3    08/30/2013      Student loan  Non-federal student loan   \n",
       "4    08/30/2013   Debt collection               Credit card   \n",
       "\n",
       "                                      issue  \\\n",
       "0  Loan modification,collection,foreclosure   \n",
       "1  Loan servicing, payments, escrow account   \n",
       "2    Incorrect information on credit report   \n",
       "3                        Repaying your loan   \n",
       "4        False statements or representation   \n",
       "\n",
       "                           sub_issue consumer_complaint_narrative  \\\n",
       "0                                NaN                          NaN   \n",
       "1                                NaN                          NaN   \n",
       "2                     Account status                          NaN   \n",
       "3                 Repaying your loan                          NaN   \n",
       "4  Attempted to collect wrong amount                          NaN   \n",
       "\n",
       "  company_public_response                          company state zipcode tags  \\\n",
       "0                     NaN                     U.S. Bancorp    CA   95993  NaN   \n",
       "1                     NaN            Wells Fargo & Company    CA   91104  NaN   \n",
       "2                     NaN            Wells Fargo & Company    NY   11764  NaN   \n",
       "3                     NaN          Navient Solutions, Inc.    MD   21402  NaN   \n",
       "4                     NaN  Resurgent Capital Services L.P.    GA   30106  NaN   \n",
       "\n",
       "  consumer_consent_provided submitted_via date_sent_to_company  \\\n",
       "0                       NaN      Referral           09/03/2013   \n",
       "1                       NaN      Referral           09/03/2013   \n",
       "2                       NaN   Postal mail           09/18/2013   \n",
       "3                       NaN         Email           08/30/2013   \n",
       "4                       NaN           Web           08/30/2013   \n",
       "\n",
       "  company_response_to_consumer timely_response consumer_disputed?  \\\n",
       "0      Closed with explanation             Yes                Yes   \n",
       "1      Closed with explanation             Yes                Yes   \n",
       "2      Closed with explanation             Yes                 No   \n",
       "3      Closed with explanation             Yes                Yes   \n",
       "4      Closed with explanation             Yes                Yes   \n",
       "\n",
       "   complaint_id  \n",
       "0        511074  \n",
       "1        511080  \n",
       "2        510473  \n",
       "3        510326  \n",
       "4        511067  "
      ]
     },
     "execution_count": 1,
     "metadata": {},
     "output_type": "execute_result"
    }
   ],
   "source": [
    "#Load The data\n",
    "import pandas as pd\n",
    "df=pd.read_csv(\"data\\consumer_complaints.csv\")\n",
    "df.head(5)\n"
   ]
  },
  {
   "cell_type": "code",
   "execution_count": 2,
   "metadata": {},
   "outputs": [
    {
     "data": {
      "text/plain": [
       "date_received                        0\n",
       "product                              0\n",
       "sub_product                     158322\n",
       "issue                                0\n",
       "sub_issue                       343335\n",
       "consumer_complaint_narrative    489151\n",
       "company_public_response         470833\n",
       "company                              0\n",
       "state                             4887\n",
       "zipcode                           4505\n",
       "tags                            477998\n",
       "consumer_consent_provided       432499\n",
       "submitted_via                        0\n",
       "date_sent_to_company                 0\n",
       "company_response_to_consumer         0\n",
       "timely_response                      0\n",
       "consumer_disputed?                   0\n",
       "complaint_id                         0\n",
       "dtype: int64"
      ]
     },
     "execution_count": 2,
     "metadata": {},
     "output_type": "execute_result"
    }
   ],
   "source": [
    "#Check if any null values and counts of null values\n",
    "df.isna().sum()"
   ]
  },
  {
   "cell_type": "code",
   "execution_count": 3,
   "metadata": {},
   "outputs": [
    {
     "data": {
      "text/plain": [
       "555957"
      ]
     },
     "execution_count": 3,
     "metadata": {},
     "output_type": "execute_result"
    }
   ],
   "source": [
    "66806+489151"
   ]
  },
  {
   "cell_type": "code",
   "execution_count": 4,
   "metadata": {},
   "outputs": [
    {
     "name": "stdout",
     "output_type": "stream",
     "text": [
      "<class 'pandas.core.frame.DataFrame'>\n",
      "RangeIndex: 555957 entries, 0 to 555956\n",
      "Data columns (total 18 columns):\n",
      " #   Column                        Non-Null Count   Dtype \n",
      "---  ------                        --------------   ----- \n",
      " 0   date_received                 555957 non-null  object\n",
      " 1   product                       555957 non-null  object\n",
      " 2   sub_product                   397635 non-null  object\n",
      " 3   issue                         555957 non-null  object\n",
      " 4   sub_issue                     212622 non-null  object\n",
      " 5   consumer_complaint_narrative  66806 non-null   object\n",
      " 6   company_public_response       85124 non-null   object\n",
      " 7   company                       555957 non-null  object\n",
      " 8   state                         551070 non-null  object\n",
      " 9   zipcode                       551452 non-null  object\n",
      " 10  tags                          77959 non-null   object\n",
      " 11  consumer_consent_provided     123458 non-null  object\n",
      " 12  submitted_via                 555957 non-null  object\n",
      " 13  date_sent_to_company          555957 non-null  object\n",
      " 14  company_response_to_consumer  555957 non-null  object\n",
      " 15  timely_response               555957 non-null  object\n",
      " 16  consumer_disputed?            555957 non-null  object\n",
      " 17  complaint_id                  555957 non-null  int64 \n",
      "dtypes: int64(1), object(17)\n",
      "memory usage: 76.3+ MB\n"
     ]
    }
   ],
   "source": [
    "#verify the column types and values\n",
    "df.info()"
   ]
  },
  {
   "cell_type": "code",
   "execution_count": 5,
   "metadata": {},
   "outputs": [
    {
     "data": {
      "text/plain": [
       "Mortgage                   186475\n",
       "Debt collection            101052\n",
       "Credit reporting            91854\n",
       "Credit card                 66468\n",
       "Bank account or service     62563\n",
       "Consumer Loan               20990\n",
       "Student loan                15839\n",
       "Payday loan                  3877\n",
       "Money transfers              3812\n",
       "Prepaid card                 2470\n",
       "Other financial service       557\n",
       "Name: product, dtype: int64"
      ]
     },
     "execution_count": 5,
     "metadata": {},
     "output_type": "execute_result"
    }
   ],
   "source": [
    "#Output label counts\n",
    "df['product'].value_counts()"
   ]
  },
  {
   "cell_type": "code",
   "execution_count": 6,
   "metadata": {},
   "outputs": [],
   "source": [
    "#Drop the values of null value columns based on consumer_complaint_narrative\n",
    "df=df.dropna(subset=[\"consumer_complaint_narrative\"],axis=0,inplace=False)"
   ]
  },
  {
   "cell_type": "code",
   "execution_count": 7,
   "metadata": {},
   "outputs": [
    {
     "data": {
      "text/plain": [
       "date_received                       0\n",
       "product                             0\n",
       "sub_product                     20455\n",
       "issue                               0\n",
       "sub_issue                       33874\n",
       "consumer_complaint_narrative        0\n",
       "company_public_response         34030\n",
       "company                             0\n",
       "state                             186\n",
       "zipcode                           189\n",
       "tags                            55389\n",
       "consumer_consent_provided           0\n",
       "submitted_via                       0\n",
       "date_sent_to_company                0\n",
       "company_response_to_consumer        0\n",
       "timely_response                     0\n",
       "consumer_disputed?                  0\n",
       "complaint_id                        0\n",
       "dtype: int64"
      ]
     },
     "execution_count": 7,
     "metadata": {},
     "output_type": "execute_result"
    }
   ],
   "source": [
    "df.isna().sum()"
   ]
  },
  {
   "cell_type": "code",
   "execution_count": 8,
   "metadata": {},
   "outputs": [],
   "source": [
    "#Create a Data frame with only 2 columns consumer_complaint_narrative,product\n",
    "cols=[\"consumer_complaint_narrative\",\"product\"]\n",
    "df_data=df[cols].sample(frac=0.4)"
   ]
  },
  {
   "cell_type": "code",
   "execution_count": 9,
   "metadata": {},
   "outputs": [],
   "source": [
    "#Create a separate column category_id againest Product columns to map with each type with one number and \n",
    "#add that column to Data Frame\n",
    "df_data[\"category_id\"],cat_mappings=df_data[\"product\"].factorize()"
   ]
  },
  {
   "cell_type": "code",
   "execution_count": 10,
   "metadata": {},
   "outputs": [
    {
     "data": {
      "text/html": [
       "<div>\n",
       "<style scoped>\n",
       "    .dataframe tbody tr th:only-of-type {\n",
       "        vertical-align: middle;\n",
       "    }\n",
       "\n",
       "    .dataframe tbody tr th {\n",
       "        vertical-align: top;\n",
       "    }\n",
       "\n",
       "    .dataframe thead th {\n",
       "        text-align: right;\n",
       "    }\n",
       "</style>\n",
       "<table border=\"1\" class=\"dataframe\">\n",
       "  <thead>\n",
       "    <tr style=\"text-align: right;\">\n",
       "      <th></th>\n",
       "      <th>consumer_complaint_narrative</th>\n",
       "      <th>product</th>\n",
       "      <th>category_id</th>\n",
       "    </tr>\n",
       "  </thead>\n",
       "  <tbody>\n",
       "    <tr>\n",
       "      <th>325381</th>\n",
       "      <td>XXXX/XXXX/XXXX GM FINANCIAL ACC # XXXX Late Da...</td>\n",
       "      <td>Consumer Loan</td>\n",
       "      <td>0</td>\n",
       "    </tr>\n",
       "    <tr>\n",
       "      <th>551459</th>\n",
       "      <td>XXXX XXXX XXXX XXXX XXXX XXXX XXXX VA XXXX XXX...</td>\n",
       "      <td>Credit reporting</td>\n",
       "      <td>1</td>\n",
       "    </tr>\n",
       "    <tr>\n",
       "      <th>504372</th>\n",
       "      <td>I had a federal tax lien of {$42000.00} filed ...</td>\n",
       "      <td>Credit reporting</td>\n",
       "      <td>1</td>\n",
       "    </tr>\n",
       "    <tr>\n",
       "      <th>217377</th>\n",
       "      <td>Please do not assume this is a duplicate becau...</td>\n",
       "      <td>Debt collection</td>\n",
       "      <td>2</td>\n",
       "    </tr>\n",
       "    <tr>\n",
       "      <th>284074</th>\n",
       "      <td>My mom passed in XX/XX/XXXX and we discovered ...</td>\n",
       "      <td>Mortgage</td>\n",
       "      <td>3</td>\n",
       "    </tr>\n",
       "    <tr>\n",
       "      <th>...</th>\n",
       "      <td>...</td>\n",
       "      <td>...</td>\n",
       "      <td>...</td>\n",
       "    </tr>\n",
       "    <tr>\n",
       "      <th>309646</th>\n",
       "      <td>I order an item on XXXX, attempted to pay it w...</td>\n",
       "      <td>Other financial service</td>\n",
       "      <td>10</td>\n",
       "    </tr>\n",
       "    <tr>\n",
       "      <th>299216</th>\n",
       "      <td>I notified Equifax in regards to information t...</td>\n",
       "      <td>Credit reporting</td>\n",
       "      <td>1</td>\n",
       "    </tr>\n",
       "    <tr>\n",
       "      <th>514667</th>\n",
       "      <td>mortgage company ( Seterus ) will not stop cal...</td>\n",
       "      <td>Mortgage</td>\n",
       "      <td>3</td>\n",
       "    </tr>\n",
       "    <tr>\n",
       "      <th>537771</th>\n",
       "      <td>My social security number is totally different...</td>\n",
       "      <td>Credit reporting</td>\n",
       "      <td>1</td>\n",
       "    </tr>\n",
       "    <tr>\n",
       "      <th>504704</th>\n",
       "      <td>On XXXX XXXX, 2016, I asked how I can keep my ...</td>\n",
       "      <td>Mortgage</td>\n",
       "      <td>3</td>\n",
       "    </tr>\n",
       "  </tbody>\n",
       "</table>\n",
       "<p>26722 rows × 3 columns</p>\n",
       "</div>"
      ],
      "text/plain": [
       "                             consumer_complaint_narrative  \\\n",
       "325381  XXXX/XXXX/XXXX GM FINANCIAL ACC # XXXX Late Da...   \n",
       "551459  XXXX XXXX XXXX XXXX XXXX XXXX XXXX VA XXXX XXX...   \n",
       "504372  I had a federal tax lien of {$42000.00} filed ...   \n",
       "217377  Please do not assume this is a duplicate becau...   \n",
       "284074  My mom passed in XX/XX/XXXX and we discovered ...   \n",
       "...                                                   ...   \n",
       "309646  I order an item on XXXX, attempted to pay it w...   \n",
       "299216  I notified Equifax in regards to information t...   \n",
       "514667  mortgage company ( Seterus ) will not stop cal...   \n",
       "537771  My social security number is totally different...   \n",
       "504704  On XXXX XXXX, 2016, I asked how I can keep my ...   \n",
       "\n",
       "                        product  category_id  \n",
       "325381            Consumer Loan            0  \n",
       "551459         Credit reporting            1  \n",
       "504372         Credit reporting            1  \n",
       "217377          Debt collection            2  \n",
       "284074                 Mortgage            3  \n",
       "...                         ...          ...  \n",
       "309646  Other financial service           10  \n",
       "299216         Credit reporting            1  \n",
       "514667                 Mortgage            3  \n",
       "537771         Credit reporting            1  \n",
       "504704                 Mortgage            3  \n",
       "\n",
       "[26722 rows x 3 columns]"
      ]
     },
     "execution_count": 10,
     "metadata": {},
     "output_type": "execute_result"
    }
   ],
   "source": [
    "df_data"
   ]
  },
  {
   "cell_type": "code",
   "execution_count": 11,
   "metadata": {},
   "outputs": [
    {
     "data": {
      "image/png": "[encoded data removed]",
      "text/plain": [
       "<Figure size 576x288 with 1 Axes>"
      ]
     },
     "metadata": {
      "needs_background": "light"
     },
     "output_type": "display_data"
    }
   ],
   "source": [
    "#Plot the bar grapgh againest label counts soum\n",
    "import matplotlib.pyplot as plt\n",
    "fig=plt.figure(figsize=(8,4))\n",
    "df_data[\"product\"].value_counts().plot.bar()\n",
    "plt.show()"
   ]
  },
  {
   "cell_type": "code",
   "execution_count": 12,
   "metadata": {},
   "outputs": [
    {
     "data": {
      "text/plain": [
       "26722"
      ]
     },
     "execution_count": 12,
     "metadata": {},
     "output_type": "execute_result"
    }
   ],
   "source": [
    "len(df_data)"
   ]
  },
  {
   "cell_type": "code",
   "execution_count": 13,
   "metadata": {},
   "outputs": [
    {
     "data": {
      "text/plain": [
       "(26722, 68200)"
      ]
     },
     "execution_count": 13,
     "metadata": {},
     "output_type": "execute_result"
    }
   ],
   "source": [
    "#Features Extraction from Text using TF-IDF,BOW\n",
    "from sklearn.feature_extraction.text import TfidfVectorizer\n",
    "from sklearn.feature_extraction.text import CountVectorizer\n",
    "\n",
    "tfidf=TfidfVectorizer(sublinear_tf=True,stop_words='english',min_df=5,norm='l2',ngram_range=(1,2),encoding='latin-1')\n",
    "features=tfidf.fit_transform(df_data.consumer_complaint_narrative).toarray()\n",
    "labels=df_data.category_id\n",
    "features.shape\n"
   ]
  },
  {
   "cell_type": "code",
   "execution_count": 14,
   "metadata": {},
   "outputs": [
    {
     "data": {
      "text/plain": [
       "13.5782390832901"
      ]
     },
     "execution_count": 14,
     "metadata": {},
     "output_type": "execute_result"
    }
   ],
   "source": [
    "(((features.size*features.itemsize)/1024)/1024)/1024"
   ]
  },
  {
   "cell_type": "code",
   "execution_count": 15,
   "metadata": {},
   "outputs": [
    {
     "data": {
      "text/html": [
       "<div>\n",
       "<style scoped>\n",
       "    .dataframe tbody tr th:only-of-type {\n",
       "        vertical-align: middle;\n",
       "    }\n",
       "\n",
       "    .dataframe tbody tr th {\n",
       "        vertical-align: top;\n",
       "    }\n",
       "\n",
       "    .dataframe thead th {\n",
       "        text-align: right;\n",
       "    }\n",
       "</style>\n",
       "<table border=\"1\" class=\"dataframe\">\n",
       "  <thead>\n",
       "    <tr style=\"text-align: right;\">\n",
       "      <th></th>\n",
       "      <th>consumer_complaint_narrative</th>\n",
       "      <th>product</th>\n",
       "      <th>category_id</th>\n",
       "    </tr>\n",
       "  </thead>\n",
       "  <tbody>\n",
       "    <tr>\n",
       "      <th>325381</th>\n",
       "      <td>XXXX/XXXX/XXXX GM FINANCIAL ACC # XXXX Late Da...</td>\n",
       "      <td>Consumer Loan</td>\n",
       "      <td>0</td>\n",
       "    </tr>\n",
       "    <tr>\n",
       "      <th>551459</th>\n",
       "      <td>XXXX XXXX XXXX XXXX XXXX XXXX XXXX VA XXXX XXX...</td>\n",
       "      <td>Credit reporting</td>\n",
       "      <td>1</td>\n",
       "    </tr>\n",
       "    <tr>\n",
       "      <th>504372</th>\n",
       "      <td>I had a federal tax lien of {$42000.00} filed ...</td>\n",
       "      <td>Credit reporting</td>\n",
       "      <td>1</td>\n",
       "    </tr>\n",
       "    <tr>\n",
       "      <th>217377</th>\n",
       "      <td>Please do not assume this is a duplicate becau...</td>\n",
       "      <td>Debt collection</td>\n",
       "      <td>2</td>\n",
       "    </tr>\n",
       "    <tr>\n",
       "      <th>284074</th>\n",
       "      <td>My mom passed in XX/XX/XXXX and we discovered ...</td>\n",
       "      <td>Mortgage</td>\n",
       "      <td>3</td>\n",
       "    </tr>\n",
       "    <tr>\n",
       "      <th>...</th>\n",
       "      <td>...</td>\n",
       "      <td>...</td>\n",
       "      <td>...</td>\n",
       "    </tr>\n",
       "    <tr>\n",
       "      <th>309646</th>\n",
       "      <td>I order an item on XXXX, attempted to pay it w...</td>\n",
       "      <td>Other financial service</td>\n",
       "      <td>10</td>\n",
       "    </tr>\n",
       "    <tr>\n",
       "      <th>299216</th>\n",
       "      <td>I notified Equifax in regards to information t...</td>\n",
       "      <td>Credit reporting</td>\n",
       "      <td>1</td>\n",
       "    </tr>\n",
       "    <tr>\n",
       "      <th>514667</th>\n",
       "      <td>mortgage company ( Seterus ) will not stop cal...</td>\n",
       "      <td>Mortgage</td>\n",
       "      <td>3</td>\n",
       "    </tr>\n",
       "    <tr>\n",
       "      <th>537771</th>\n",
       "      <td>My social security number is totally different...</td>\n",
       "      <td>Credit reporting</td>\n",
       "      <td>1</td>\n",
       "    </tr>\n",
       "    <tr>\n",
       "      <th>504704</th>\n",
       "      <td>On XXXX XXXX, 2016, I asked how I can keep my ...</td>\n",
       "      <td>Mortgage</td>\n",
       "      <td>3</td>\n",
       "    </tr>\n",
       "  </tbody>\n",
       "</table>\n",
       "<p>26722 rows × 3 columns</p>\n",
       "</div>"
      ],
      "text/plain": [
       "                             consumer_complaint_narrative  \\\n",
       "325381  XXXX/XXXX/XXXX GM FINANCIAL ACC # XXXX Late Da...   \n",
       "551459  XXXX XXXX XXXX XXXX XXXX XXXX XXXX VA XXXX XXX...   \n",
       "504372  I had a federal tax lien of {$42000.00} filed ...   \n",
       "217377  Please do not assume this is a duplicate becau...   \n",
       "284074  My mom passed in XX/XX/XXXX and we discovered ...   \n",
       "...                                                   ...   \n",
       "309646  I order an item on XXXX, attempted to pay it w...   \n",
       "299216  I notified Equifax in regards to information t...   \n",
       "514667  mortgage company ( Seterus ) will not stop cal...   \n",
       "537771  My social security number is totally different...   \n",
       "504704  On XXXX XXXX, 2016, I asked how I can keep my ...   \n",
       "\n",
       "                        product  category_id  \n",
       "325381            Consumer Loan            0  \n",
       "551459         Credit reporting            1  \n",
       "504372         Credit reporting            1  \n",
       "217377          Debt collection            2  \n",
       "284074                 Mortgage            3  \n",
       "...                         ...          ...  \n",
       "309646  Other financial service           10  \n",
       "299216         Credit reporting            1  \n",
       "514667                 Mortgage            3  \n",
       "537771         Credit reporting            1  \n",
       "504704                 Mortgage            3  \n",
       "\n",
       "[26722 rows x 3 columns]"
      ]
     },
     "execution_count": 15,
     "metadata": {},
     "output_type": "execute_result"
    }
   ],
   "source": [
    "df_data"
   ]
  },
  {
   "cell_type": "code",
   "execution_count": 16,
   "metadata": {},
   "outputs": [],
   "source": [
    "\n",
    "from io import StringIO\n",
    "category_id_df=df_data[[\"product\",\"category_id\"]].drop_duplicates().sort_values(\"category_id\")\n",
    "category_to_id=dict(category_id_df.values)\n",
    "id_to_category=dict(category_id_df[[\"category_id\",\"product\"]].values)"
   ]
  },
  {
   "cell_type": "code",
   "execution_count": 17,
   "metadata": {},
   "outputs": [
    {
     "data": {
      "text/plain": [
       "{'Consumer Loan': 0,\n",
       " 'Credit reporting': 1,\n",
       " 'Debt collection': 2,\n",
       " 'Mortgage': 3,\n",
       " 'Student loan': 4,\n",
       " 'Credit card': 5,\n",
       " 'Bank account or service': 6,\n",
       " 'Money transfers': 7,\n",
       " 'Payday loan': 8,\n",
       " 'Prepaid card': 9,\n",
       " 'Other financial service': 10}"
      ]
     },
     "execution_count": 17,
     "metadata": {},
     "output_type": "execute_result"
    }
   ],
   "source": [
    "category_to_id"
   ]
  },
  {
   "cell_type": "code",
   "execution_count": 18,
   "metadata": {},
   "outputs": [
    {
     "data": {
      "text/plain": [
       "{0: 'Consumer Loan',\n",
       " 1: 'Credit reporting',\n",
       " 2: 'Debt collection',\n",
       " 3: 'Mortgage',\n",
       " 4: 'Student loan',\n",
       " 5: 'Credit card',\n",
       " 6: 'Bank account or service',\n",
       " 7: 'Money transfers',\n",
       " 8: 'Payday loan',\n",
       " 9: 'Prepaid card',\n",
       " 10: 'Other financial service'}"
      ]
     },
     "execution_count": 18,
     "metadata": {},
     "output_type": "execute_result"
    }
   ],
   "source": [
    "id_to_category"
   ]
  },
  {
   "cell_type": "code",
   "execution_count": 19,
   "metadata": {},
   "outputs": [
    {
     "data": {
      "text/plain": [
       "'Payday loan'"
      ]
     },
     "execution_count": 19,
     "metadata": {},
     "output_type": "execute_result"
    }
   ],
   "source": [
    "id_to_category[8]"
   ]
  },
  {
   "cell_type": "code",
   "execution_count": 20,
   "metadata": {},
   "outputs": [
    {
     "data": {
      "text/plain": [
       "'\\n#Feature Selection from chi2\\nfrom sklearn.feature_selection import chi2\\nimport numpy as np\\n\\nN=2\\nfor product,category_id in sorted(category_to_id.items()):\\n    features_chi2=chi2(features,labels==category_id)\\n    indices=np.argsort(features_chi2[0])\\n    feature_names=np.array(tfidf.get_feature_names())[indices]\\n    unigram=[v for v in feature_names if len(v.split(\\' \\'))==1][:N]\\n    bigram=[v for v in feature_names if len(v.split(\\' \\'))==2][:N]\\n    print(\"# \\'{}\\':\".format(product))\\n    print(\"    .most correlated unigrams:\\n         .{}\".format(\\'\\n       .\\'.join(unigram[-N:])))\\n    print(\"    .most correlated biigrams:\\n         .{}\".format(\\'\\n       .\\'.join(bigram[-N:])))\\n    \\n'"
      ]
     },
     "execution_count": 20,
     "metadata": {},
     "output_type": "execute_result"
    }
   ],
   "source": [
    "\"\"\"\n",
    "#Feature Selection from chi2\n",
    "from sklearn.feature_selection import chi2\n",
    "import numpy as np\n",
    "\n",
    "N=2\n",
    "for product,category_id in sorted(category_to_id.items()):\n",
    "    features_chi2=chi2(features,labels==category_id)\n",
    "    indices=np.argsort(features_chi2[0])\n",
    "    feature_names=np.array(tfidf.get_feature_names())[indices]\n",
    "    unigram=[v for v in feature_names if len(v.split(' '))==1][:N]\n",
    "    bigram=[v for v in feature_names if len(v.split(' '))==2][:N]\n",
    "    print(\"# '{}':\".format(product))\n",
    "    print(\"    .most correlated unigrams:\\n         .{}\".format('\\n       .'.join(unigram[-N:])))\n",
    "    print(\"    .most correlated biigrams:\\n         .{}\".format('\\n       .'.join(bigram[-N:])))\n",
    "    \n",
    "\"\"\""
   ]
  },
  {
   "cell_type": "code",
   "execution_count": 21,
   "metadata": {},
   "outputs": [
    {
     "data": {
      "text/html": [
       "<div>\n",
       "<style scoped>\n",
       "    .dataframe tbody tr th:only-of-type {\n",
       "        vertical-align: middle;\n",
       "    }\n",
       "\n",
       "    .dataframe tbody tr th {\n",
       "        vertical-align: top;\n",
       "    }\n",
       "\n",
       "    .dataframe thead th {\n",
       "        text-align: right;\n",
       "    }\n",
       "</style>\n",
       "<table border=\"1\" class=\"dataframe\">\n",
       "  <thead>\n",
       "    <tr style=\"text-align: right;\">\n",
       "      <th></th>\n",
       "      <th>consumer_complaint_narrative</th>\n",
       "      <th>product</th>\n",
       "      <th>category_id</th>\n",
       "    </tr>\n",
       "  </thead>\n",
       "  <tbody>\n",
       "    <tr>\n",
       "      <th>325381</th>\n",
       "      <td>XXXX/XXXX/XXXX GM FINANCIAL ACC # XXXX Late Da...</td>\n",
       "      <td>Consumer Loan</td>\n",
       "      <td>0</td>\n",
       "    </tr>\n",
       "    <tr>\n",
       "      <th>551459</th>\n",
       "      <td>XXXX XXXX XXXX XXXX XXXX XXXX XXXX VA XXXX XXX...</td>\n",
       "      <td>Credit reporting</td>\n",
       "      <td>1</td>\n",
       "    </tr>\n",
       "    <tr>\n",
       "      <th>504372</th>\n",
       "      <td>I had a federal tax lien of {$42000.00} filed ...</td>\n",
       "      <td>Credit reporting</td>\n",
       "      <td>1</td>\n",
       "    </tr>\n",
       "    <tr>\n",
       "      <th>217377</th>\n",
       "      <td>Please do not assume this is a duplicate becau...</td>\n",
       "      <td>Debt collection</td>\n",
       "      <td>2</td>\n",
       "    </tr>\n",
       "    <tr>\n",
       "      <th>284074</th>\n",
       "      <td>My mom passed in XX/XX/XXXX and we discovered ...</td>\n",
       "      <td>Mortgage</td>\n",
       "      <td>3</td>\n",
       "    </tr>\n",
       "    <tr>\n",
       "      <th>...</th>\n",
       "      <td>...</td>\n",
       "      <td>...</td>\n",
       "      <td>...</td>\n",
       "    </tr>\n",
       "    <tr>\n",
       "      <th>309646</th>\n",
       "      <td>I order an item on XXXX, attempted to pay it w...</td>\n",
       "      <td>Other financial service</td>\n",
       "      <td>10</td>\n",
       "    </tr>\n",
       "    <tr>\n",
       "      <th>299216</th>\n",
       "      <td>I notified Equifax in regards to information t...</td>\n",
       "      <td>Credit reporting</td>\n",
       "      <td>1</td>\n",
       "    </tr>\n",
       "    <tr>\n",
       "      <th>514667</th>\n",
       "      <td>mortgage company ( Seterus ) will not stop cal...</td>\n",
       "      <td>Mortgage</td>\n",
       "      <td>3</td>\n",
       "    </tr>\n",
       "    <tr>\n",
       "      <th>537771</th>\n",
       "      <td>My social security number is totally different...</td>\n",
       "      <td>Credit reporting</td>\n",
       "      <td>1</td>\n",
       "    </tr>\n",
       "    <tr>\n",
       "      <th>504704</th>\n",
       "      <td>On XXXX XXXX, 2016, I asked how I can keep my ...</td>\n",
       "      <td>Mortgage</td>\n",
       "      <td>3</td>\n",
       "    </tr>\n",
       "  </tbody>\n",
       "</table>\n",
       "<p>26722 rows × 3 columns</p>\n",
       "</div>"
      ],
      "text/plain": [
       "                             consumer_complaint_narrative  \\\n",
       "325381  XXXX/XXXX/XXXX GM FINANCIAL ACC # XXXX Late Da...   \n",
       "551459  XXXX XXXX XXXX XXXX XXXX XXXX XXXX VA XXXX XXX...   \n",
       "504372  I had a federal tax lien of {$42000.00} filed ...   \n",
       "217377  Please do not assume this is a duplicate becau...   \n",
       "284074  My mom passed in XX/XX/XXXX and we discovered ...   \n",
       "...                                                   ...   \n",
       "309646  I order an item on XXXX, attempted to pay it w...   \n",
       "299216  I notified Equifax in regards to information t...   \n",
       "514667  mortgage company ( Seterus ) will not stop cal...   \n",
       "537771  My social security number is totally different...   \n",
       "504704  On XXXX XXXX, 2016, I asked how I can keep my ...   \n",
       "\n",
       "                        product  category_id  \n",
       "325381            Consumer Loan            0  \n",
       "551459         Credit reporting            1  \n",
       "504372         Credit reporting            1  \n",
       "217377          Debt collection            2  \n",
       "284074                 Mortgage            3  \n",
       "...                         ...          ...  \n",
       "309646  Other financial service           10  \n",
       "299216         Credit reporting            1  \n",
       "514667                 Mortgage            3  \n",
       "537771         Credit reporting            1  \n",
       "504704                 Mortgage            3  \n",
       "\n",
       "[26722 rows x 3 columns]"
      ]
     },
     "execution_count": 21,
     "metadata": {},
     "output_type": "execute_result"
    }
   ],
   "source": [
    "df_data"
   ]
  },
  {
   "cell_type": "code",
   "execution_count": 22,
   "metadata": {},
   "outputs": [
    {
     "data": {
      "text/html": [
       "<div>\n",
       "<style scoped>\n",
       "    .dataframe tbody tr th:only-of-type {\n",
       "        vertical-align: middle;\n",
       "    }\n",
       "\n",
       "    .dataframe tbody tr th {\n",
       "        vertical-align: top;\n",
       "    }\n",
       "\n",
       "    .dataframe thead th {\n",
       "        text-align: right;\n",
       "    }\n",
       "</style>\n",
       "<table border=\"1\" class=\"dataframe\">\n",
       "  <thead>\n",
       "    <tr style=\"text-align: right;\">\n",
       "      <th></th>\n",
       "      <th>consumer_complaint_narrative</th>\n",
       "      <th>product</th>\n",
       "      <th>category_id</th>\n",
       "    </tr>\n",
       "  </thead>\n",
       "  <tbody>\n",
       "    <tr>\n",
       "      <th>504372</th>\n",
       "      <td>I had a federal tax lien of {$42000.00} filed ...</td>\n",
       "      <td>Credit reporting</td>\n",
       "      <td>1</td>\n",
       "    </tr>\n",
       "  </tbody>\n",
       "</table>\n",
       "</div>"
      ],
      "text/plain": [
       "                             consumer_complaint_narrative           product  \\\n",
       "504372  I had a federal tax lien of {$42000.00} filed ...  Credit reporting   \n",
       "\n",
       "        category_id  \n",
       "504372            1  "
      ]
     },
     "execution_count": 22,
     "metadata": {},
     "output_type": "execute_result"
    }
   ],
   "source": [
    "df_data[2:3]"
   ]
  },
  {
   "cell_type": "code",
   "execution_count": 23,
   "metadata": {},
   "outputs": [
    {
     "name": "stdout",
     "output_type": "stream",
     "text": [
      "(26722, 34004)\n",
      "(26722, 34004)\n"
     ]
    }
   ],
   "source": [
    "#Split the Data in to train and test sets\n",
    "from sklearn.model_selection import train_test_split\n",
    "from sklearn.naive_bayes import MultinomialNB\n",
    "from sklearn.feature_extraction.text import CountVectorizer\n",
    "from sklearn.feature_extraction.text import TfidfTransformer\n",
    "bwcv=CountVectorizer()\n",
    "\n",
    "x=bwcv.fit_transform(df_data[\"consumer_complaint_narrative\"])\n",
    "tfidf_transformer=TfidfTransformer()\n",
    "print(x.shape)\n",
    "x_tdf=tfidf_transformer.fit_transform(x)\n",
    "print(x_tdf.shape)\n",
    "x_train,x_test,y_train,y_test=train_test_split(x,df_data[\"category_id\"])"
   ]
  },
  {
   "cell_type": "code",
   "execution_count": 24,
   "metadata": {},
   "outputs": [],
   "source": [
    "#Apply model NB\n",
    "gbmdl=MultinomialNB().fit(x_train,y_train)"
   ]
  },
  {
   "cell_type": "code",
   "execution_count": 25,
   "metadata": {},
   "outputs": [],
   "source": [
    "y_pred=gbmdl.predict(x_test)"
   ]
  },
  {
   "cell_type": "code",
   "execution_count": 26,
   "metadata": {},
   "outputs": [
    {
     "name": "stdout",
     "output_type": "stream",
     "text": [
      "0.7953899116898668\n",
      "[[ 178   35   71   39    2   30   15    0    0    0    0]\n",
      " [   5 1033  116   23    1   29    7    0    0    0    0]\n",
      " [  18  184 1482   38    6   46   11    0    0    0    0]\n",
      " [   3   32   24 1431    0   12   14    0    0    0    0]\n",
      " [   6    7   43   20  117    6    1    0    0    0    0]\n",
      " [   4   66   69    6    1  586   33    0    0    0    0]\n",
      " [   4   18   16   20    0   63  484    0    0    1    0]\n",
      " [   1    1    9    1    0    6   50    2    0    0    0]\n",
      " [  18    6   30    7    1    2    7    0    0    0    0]\n",
      " [   1    0    1    0    0   20   51    0    0    1    0]\n",
      " [   0    0    3    0    0    2    5    0    0    0    0]]\n",
      "              precision    recall  f1-score   support\n",
      "\n",
      "           0       0.75      0.48      0.59       370\n",
      "           1       0.75      0.85      0.80      1214\n",
      "           2       0.80      0.83      0.81      1785\n",
      "           3       0.90      0.94      0.92      1516\n",
      "           4       0.91      0.58      0.71       200\n",
      "           5       0.73      0.77      0.75       765\n",
      "           6       0.71      0.80      0.75       606\n",
      "           7       1.00      0.03      0.06        70\n",
      "           8       0.00      0.00      0.00        71\n",
      "           9       0.50      0.01      0.03        74\n",
      "          10       0.00      0.00      0.00        10\n",
      "\n",
      "    accuracy                           0.80      6681\n",
      "   macro avg       0.64      0.48      0.49      6681\n",
      "weighted avg       0.79      0.80      0.78      6681\n",
      "\n"
     ]
    },
    {
     "name": "stderr",
     "output_type": "stream",
     "text": [
      "C:\\AI\\ML_Practice\\NLP_Problesm_Using_ML_DL\\env\\lib\\site-packages\\sklearn\\metrics\\_classification.py:1221: UndefinedMetricWarning: Precision and F-score are ill-defined and being set to 0.0 in labels with no predicted samples. Use `zero_division` parameter to control this behavior.\n",
      "  _warn_prf(average, modifier, msg_start, len(result))\n"
     ]
    }
   ],
   "source": [
    "from sklearn.metrics import accuracy_score\n",
    "from sklearn.metrics import confusion_matrix, classification_report\n",
    "\n",
    "acc_score=accuracy_score(y_test,y_pred)\n",
    "print(acc_score)\n",
    "print(confusion_matrix(y_test,y_pred))\n",
    "print(classification_report(y_test,y_pred))"
   ]
  },
  {
   "cell_type": "code",
   "execution_count": 27,
   "metadata": {},
   "outputs": [
    {
     "data": {
      "text/plain": [
       "0.7953899116898668"
      ]
     },
     "execution_count": 27,
     "metadata": {},
     "output_type": "execute_result"
    }
   ],
   "source": [
    "acc_score"
   ]
  },
  {
   "cell_type": "code",
   "execution_count": 28,
   "metadata": {},
   "outputs": [
    {
     "name": "stdout",
     "output_type": "stream",
     "text": [
      "(1, 34004)\n",
      "(1, 34004)\n"
     ]
    }
   ],
   "source": [
    "k=bwcv.transform([\"I am being charged for something I did n't get\"])\n",
    "print(k.shape)\n",
    "print(x_test[1].shape)"
   ]
  },
  {
   "cell_type": "code",
   "execution_count": 29,
   "metadata": {},
   "outputs": [
    {
     "name": "stdout",
     "output_type": "stream",
     "text": [
      "Student loan\n"
     ]
    }
   ],
   "source": [
    "#Test the model with some sample predictions\n",
    "sample_pred=gbmdl.predict(bwcv.transform([\"for my education\"]))\n",
    "print(id_to_category[int(sample_pred)])"
   ]
  },
  {
   "cell_type": "code",
   "execution_count": 30,
   "metadata": {},
   "outputs": [
    {
     "data": {
      "text/plain": [
       "{0: 'Consumer Loan',\n",
       " 1: 'Credit reporting',\n",
       " 2: 'Debt collection',\n",
       " 3: 'Mortgage',\n",
       " 4: 'Student loan',\n",
       " 5: 'Credit card',\n",
       " 6: 'Bank account or service',\n",
       " 7: 'Money transfers',\n",
       " 8: 'Payday loan',\n",
       " 9: 'Prepaid card',\n",
       " 10: 'Other financial service'}"
      ]
     },
     "execution_count": 30,
     "metadata": {},
     "output_type": "execute_result"
    }
   ],
   "source": [
    "id_to_category"
   ]
  },
  {
   "cell_type": "code",
   "execution_count": 31,
   "metadata": {},
   "outputs": [],
   "source": [
    "#Apply Random Forest Model\n",
    "from sklearn.linear_model import LogisticRegression\n",
    "from sklearn.ensemble import RandomForestClassifier\n",
    "from sklearn.naive_bayes import MultinomialNB\n",
    "from sklearn.svm import LinearSVC\n",
    "\n",
    "from sklearn.model_selection import cross_val_score\n",
    "\n",
    "models=[LinearSVC()]"
   ]
  },
  {
   "cell_type": "code",
   "execution_count": 33,
   "metadata": {},
   "outputs": [
    {
     "name": "stdout",
     "output_type": "stream",
     "text": [
      "LinearSVC\n",
      "[0.85275959 0.85949486 0.85441617 0.85348054 0.84805389]\n",
      "  model_name  fold_idx  accuracy\n",
      "0  LinearSVC         0  0.852760\n",
      "1  LinearSVC         1  0.859495\n",
      "2  LinearSVC         2  0.854416\n",
      "3  LinearSVC         3  0.853481\n",
      "4  LinearSVC         4  0.848054\n"
     ]
    }
   ],
   "source": [
    "CV=5\n",
    "cv_df=pd.DataFrame(index=range(CV*len(models)))\n",
    "entries=[]\n",
    "for model in models:\n",
    "    model_name=model.__class__.__name__\n",
    "    print(model_name)\n",
    "    accuraices=cross_val_score(model,features,labels,scoring=\"accuracy\",cv=CV)\n",
    "    print(accuraices)\n",
    "    for fold_idx,accuracy in enumerate(accuraices):\n",
    "        entries.append((model_name,fold_idx,accuracy))\n",
    "cv_df=pd.DataFrame(entries,columns=[\"model_name\",\"fold_idx\",\"accuracy\"])\n",
    "print(cv_df)    "
   ]
  },
  {
   "cell_type": "code",
   "execution_count": 34,
   "metadata": {},
   "outputs": [
    {
     "data": {
      "text/html": [
       "<div>\n",
       "<style scoped>\n",
       "    .dataframe tbody tr th:only-of-type {\n",
       "        vertical-align: middle;\n",
       "    }\n",
       "\n",
       "    .dataframe tbody tr th {\n",
       "        vertical-align: top;\n",
       "    }\n",
       "\n",
       "    .dataframe thead th {\n",
       "        text-align: right;\n",
       "    }\n",
       "</style>\n",
       "<table border=\"1\" class=\"dataframe\">\n",
       "  <thead>\n",
       "    <tr style=\"text-align: right;\">\n",
       "      <th></th>\n",
       "      <th>model_name</th>\n",
       "      <th>fold_idx</th>\n",
       "      <th>accuracy</th>\n",
       "    </tr>\n",
       "  </thead>\n",
       "  <tbody>\n",
       "    <tr>\n",
       "      <th>0</th>\n",
       "      <td>LinearSVC</td>\n",
       "      <td>0</td>\n",
       "      <td>0.852760</td>\n",
       "    </tr>\n",
       "    <tr>\n",
       "      <th>1</th>\n",
       "      <td>LinearSVC</td>\n",
       "      <td>1</td>\n",
       "      <td>0.859495</td>\n",
       "    </tr>\n",
       "    <tr>\n",
       "      <th>2</th>\n",
       "      <td>LinearSVC</td>\n",
       "      <td>2</td>\n",
       "      <td>0.854416</td>\n",
       "    </tr>\n",
       "    <tr>\n",
       "      <th>3</th>\n",
       "      <td>LinearSVC</td>\n",
       "      <td>3</td>\n",
       "      <td>0.853481</td>\n",
       "    </tr>\n",
       "    <tr>\n",
       "      <th>4</th>\n",
       "      <td>LinearSVC</td>\n",
       "      <td>4</td>\n",
       "      <td>0.848054</td>\n",
       "    </tr>\n",
       "  </tbody>\n",
       "</table>\n",
       "</div>"
      ],
      "text/plain": [
       "  model_name  fold_idx  accuracy\n",
       "0  LinearSVC         0  0.852760\n",
       "1  LinearSVC         1  0.859495\n",
       "2  LinearSVC         2  0.854416\n",
       "3  LinearSVC         3  0.853481\n",
       "4  LinearSVC         4  0.848054"
      ]
     },
     "execution_count": 34,
     "metadata": {},
     "output_type": "execute_result"
    }
   ],
   "source": [
    "cv_df\n"
   ]
  },
  {
   "cell_type": "code",
   "execution_count": 36,
   "metadata": {},
   "outputs": [
    {
     "data": {
      "text/plain": [
       "numpy.ndarray"
      ]
     },
     "execution_count": 36,
     "metadata": {},
     "output_type": "execute_result"
    }
   ],
   "source": [
    "#Apply Logistic Regression Mode\n",
    "type(features)"
   ]
  },
  {
   "cell_type": "code",
   "execution_count": null,
   "metadata": {},
   "outputs": [],
   "source": [
    "#plot the boxplot againest RF vs LR model using seabaron"
   ]
  },
  {
   "cell_type": "code",
   "execution_count": null,
   "metadata": {},
   "outputs": [],
   "source": [
    "#Display the all the model accuracies mean"
   ]
  },
  {
   "cell_type": "code",
   "execution_count": null,
   "metadata": {},
   "outputs": [],
   "source": [
    "#apply lenar SVC"
   ]
  },
  {
   "cell_type": "code",
   "execution_count": null,
   "metadata": {},
   "outputs": [],
   "source": [
    "#Get the confusion matrix"
   ]
  },
  {
   "cell_type": "code",
   "execution_count": null,
   "metadata": {},
   "outputs": [],
   "source": []
  },
  {
   "cell_type": "code",
   "execution_count": null,
   "metadata": {},
   "outputs": [],
   "source": []
  },
  {
   "cell_type": "code",
   "execution_count": null,
   "metadata": {},
   "outputs": [],
   "source": []
  },
  {
   "cell_type": "code",
   "execution_count": null,
   "metadata": {},
   "outputs": [],
   "source": []
  },
  {
   "cell_type": "code",
   "execution_count": null,
   "metadata": {},
   "outputs": [],
   "source": []
  },
  {
   "cell_type": "code",
   "execution_count": null,
   "metadata": {},
   "outputs": [],
   "source": []
  }
 ],
 "metadata": {
  "kernelspec": {
   "display_name": "Python 3",
   "language": "python",
   "name": "python3"
  },
  "language_info": {
   "codemirror_mode": {
    "name": "ipython",
    "version": 3
   },
   "file_extension": ".py",
   "mimetype": "text/x-python",
   "name": "python",
   "nbconvert_exporter": "python",
   "pygments_lexer": "ipython3",
   "version": "3.8.5"
  }
 },
 "nbformat": 4,
 "nbformat_minor": 4
}
